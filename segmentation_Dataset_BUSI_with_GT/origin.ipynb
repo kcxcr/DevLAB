{
 "cells": [
  {
   "cell_type": "code",
   "execution_count": null,
   "metadata": {},
   "outputs": [],
   "source": [
    "# This Python 3 environment comes with many helpful analytics libraries installed\n",
    "# It is defined by the kaggle/python Docker image: https://github.com/kaggle/docker-python\n",
    "# For example, here's several helpful packages to load\n",
    "\n",
    "import numpy as np # linear algebra\n",
    "import pandas as pd # data processing, CSV file I/O (e.g. pd.read_csv)\n",
    "\n",
    "# Input data files are available in the read-only \"../input/\" directory\n",
    "# For example, running this (by clicking run or pressing Shift+Enter) will list all files under the input directory\n",
    "\n",
    "import os\n",
    "for dirname, _, filenames in os.walk('/kaggle/input'):\n",
    "    for filename in filenames:\n",
    "        print(os.path.join(dirname, filename))\n",
    "\n",
    "# You can write up to 20GB to the current directory (/kaggle/working/) that gets preserved as output when you create a version using \"Save & Run All\" \n",
    "# You can also write temporary files to /kaggle/temp/, but they won't be saved outside of the current session"
   ]
  },
  {
   "cell_type": "code",
   "execution_count": null,
   "metadata": {},
   "outputs": [],
   "source": [
    "import os\n",
    "import numpy as np\n",
    "import cv2\n",
    "import tensorflow as tf\n",
    "from tensorflow.keras.layers import Input, Conv2D, Conv2DTranspose, BatchNormalization, Activation\n",
    "from tensorflow.keras.models import Model\n",
    "from tensorflow.keras.applications import EfficientNetB0\n",
    "from tensorflow.keras.optimizers import Adam\n",
    "import matplotlib.pyplot as plt"
   ]
  },
  {
   "cell_type": "code",
   "execution_count": null,
   "metadata": {},
   "outputs": [],
   "source": [
    "def load_images_from_folder(dataset_path, img_size=(256, 256)):\n",
    "    images, masks = [], []\n",
    "    categories = ['benign', 'normal', 'malignant']\n",
    "\n",
    "    for category in categories:\n",
    "        category_path = os.path.join(dataset_path, category)\n",
    "        image_files = sorted([f for f in os.listdir(category_path) if \"mask\" not in f.lower()])\n",
    "        mask_files = sorted([f for f in os.listdir(category_path) if \"mask\" in f.lower()])\n",
    "\n",
    "        for img_file, mask_file in zip(image_files, mask_files):\n",
    "            img_path, mask_path = os.path.join(category_path, img_file), os.path.join(category_path, mask_file)\n",
    "            img, mask = cv2.imread(img_path), cv2.imread(mask_path, cv2.IMREAD_GRAYSCALE)\n",
    "\n",
    "            if img is not None and mask is not None:\n",
    "                images.append(cv2.resize(img, img_size) / 255.0)\n",
    "                masks.append(cv2.resize(mask, img_size) / 255.0)\n",
    "\n",
    "    return np.array(images), np.expand_dims(np.array(masks), axis=-1)\n",
    "\n",
    "dataset_path = \"/kaggle/input/breast-ultrasound-images-dataset/Dataset_BUSI_with_GT\"\n",
    "train_images, train_masks = load_images_from_folder(dataset_path)\n",
    "test_images, test_masks = load_images_from_folder(dataset_path)\n",
    "\n",
    "print(\"Train Images Shape:\", train_images.shape)\n",
    "print(\"Train Masks Shape:\", train_masks.shape)\n",
    "print(\"Test Images Shape:\", test_images.shape)\n",
    "print(\"Test Masks Shape:\", test_masks.shape)"
   ]
  },
  {
   "cell_type": "code",
   "execution_count": null,
   "metadata": {},
   "outputs": [],
   "source": [
    "def build_model(input_shape=(256, 256, 3)):\n",
    "    inputs = Input(input_shape)\n",
    "    base_model = EfficientNetB0(include_top=False, weights=\"imagenet\", input_tensor=inputs)\n",
    "\n",
    "    encoder_output = base_model.output  \n",
    "    \n",
    "    # **Decoder (Upsampling Layers)**\n",
    "    x = Conv2DTranspose(256, (3,3), strides=(2,2), padding=\"same\")(encoder_output)\n",
    "    x = BatchNormalization()(x)\n",
    "    x = Activation(\"relu\")(x)\n",
    "\n",
    "    x = Conv2DTranspose(128, (3,3), strides=(2,2), padding=\"same\")(x)\n",
    "    x = BatchNormalization()(x)\n",
    "    x = Activation(\"relu\")(x)\n",
    "\n",
    "    x = Conv2DTranspose(64, (3,3), strides=(2,2), padding=\"same\")(x)\n",
    "    x = BatchNormalization()(x)\n",
    "    x = Activation(\"relu\")(x)\n",
    "\n",
    "    x = Conv2DTranspose(32, (3,3), strides=(2,2), padding=\"same\")(x)\n",
    "    x = BatchNormalization()(x)\n",
    "    x = Activation(\"relu\")(x)\n",
    "\n",
    "    x = Conv2DTranspose(16, (3,3), strides=(2,2), padding=\"same\")(x)\n",
    "    x = BatchNormalization()(x)\n",
    "    x = Activation(\"relu\")(x)\n",
    "\n",
    "    x = Conv2D(1, (1,1), activation=\"sigmoid\")(x)\n",
    "\n",
    "    model = Model(inputs, x)\n",
    "    return model\n",
    "\n",
    "unet_model = build_model()\n",
    "unet_model.compile(optimizer=Adam(learning_rate=0.0001), loss=\"binary_crossentropy\", metrics=[\"accuracy\"])\n",
    "unet_model.summary()"
   ]
  },
  {
   "cell_type": "code",
   "execution_count": null,
   "metadata": {},
   "outputs": [],
   "source": [
    "history = unet_model.fit(\n",
    "    train_images, train_masks,\n",
    "    validation_data=(test_images, test_masks),\n",
    "    epochs=50,\n",
    "    batch_size=16,\n",
    "    callbacks=[tf.keras.callbacks.EarlyStopping(monitor='val_loss', patience=10, restore_best_weights=True)]\n",
    ")"
   ]
  },
  {
   "cell_type": "code",
   "execution_count": null,
   "metadata": {},
   "outputs": [],
   "source": [
    "def plot_sample(image, predicted_mask, actual_mask, index):\n",
    "    fig, ax = plt.subplots(1, 3, figsize=(12, 4))\n",
    "    \n",
    "    ax[0].imshow(image, cmap='gray')\n",
    "    ax[0].set_title(f'Original Image {index}')\n",
    "    ax[0].axis('off')\n",
    "\n",
    "    ax[1].imshow(predicted_mask, cmap='viridis')\n",
    "    ax[1].set_title(f'Predicted Mask {index}')\n",
    "    ax[1].axis('off')\n",
    "\n",
    "    ax[2].imshow(actual_mask, cmap='viridis')\n",
    "    ax[2].set_title(f'Actual Mask {index}')\n",
    "    ax[2].axis('off')\n",
    "\n",
    "    plt.show()\n",
    "\n",
    "# Predict and visualize\n",
    "predictions = unet_model.predict(test_images)\n",
    "predictions = (predictions > 0.5).astype(np.uint8)  # Binarize output\n",
    "\n",
    "for i in range(3):  # Show 3 samples\n",
    "    plot_sample(test_images[i], predictions[i].squeeze(), test_masks[i].squeeze(), i)"
   ]
  },
  {
   "cell_type": "code",
   "execution_count": null,
   "metadata": {},
   "outputs": [],
   "source": []
  },
  {
   "cell_type": "code",
   "execution_count": null,
   "metadata": {},
   "outputs": [],
   "source": []
  },
  {
   "cell_type": "code",
   "execution_count": null,
   "metadata": {},
   "outputs": [],
   "source": []
  },
  {
   "cell_type": "code",
   "execution_count": null,
   "metadata": {},
   "outputs": [],
   "source": []
  },
  {
   "cell_type": "code",
   "execution_count": null,
   "metadata": {},
   "outputs": [],
   "source": []
  },
  {
   "cell_type": "code",
   "execution_count": null,
   "metadata": {},
   "outputs": [],
   "source": []
  },
  {
   "cell_type": "code",
   "execution_count": null,
   "metadata": {},
   "outputs": [],
   "source": []
  }
 ],
 "metadata": {
  "language_info": {
   "name": "python"
  }
 },
 "nbformat": 4,
 "nbformat_minor": 2
}
